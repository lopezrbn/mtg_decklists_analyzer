{
 "cells": [
  {
   "cell_type": "code",
   "execution_count": 2,
   "id": "de404383",
   "metadata": {},
   "outputs": [],
   "source": [
    "import pandas as pd\n",
    "import requests\n",
    "import bs4\n",
    "import lxml"
   ]
  },
  {
   "cell_type": "code",
   "execution_count": 3,
   "id": "29f9d1d7",
   "metadata": {
    "scrolled": false
   },
   "outputs": [
    {
     "name": "stdout",
     "output_type": "stream",
     "text": [
      "Downloading decklist: 1/50\n",
      "Downloading decklist: 2/50\n",
      "Downloading decklist: 3/50\n",
      "Downloading decklist: 4/50\n",
      "Downloading decklist: 5/50\n",
      "Downloading decklist: 6/50\n",
      "Downloading decklist: 7/50\n",
      "Downloading decklist: 8/50\n",
      "Downloading decklist: 9/50\n",
      "Downloading decklist: 10/50\n",
      "Downloading decklist: 11/50\n",
      "Downloading decklist: 12/50\n",
      "Downloading decklist: 13/50\n",
      "Downloading decklist: 14/50\n",
      "Downloading decklist: 15/50\n",
      "Downloading decklist: 16/50\n",
      "Downloading decklist: 17/50\n",
      "Downloading decklist: 18/50\n",
      "Downloading decklist: 19/50\n",
      "Downloading decklist: 20/50\n",
      "Downloading decklist: 21/50\n",
      "Downloading decklist: 22/50\n",
      "Downloading decklist: 23/50\n",
      "Downloading decklist: 24/50\n",
      "Downloading decklist: 25/50\n",
      "Downloading decklist: 26/50\n",
      "Downloading decklist: 27/50\n",
      "Downloading decklist: 28/50\n",
      "Downloading decklist: 29/50\n",
      "Downloading decklist: 30/50\n",
      "Downloading decklist: 31/50\n",
      "Downloading decklist: 32/50\n",
      "Downloading decklist: 33/50\n",
      "Downloading decklist: 34/50\n",
      "Downloading decklist: 35/50\n",
      "Downloading decklist: 36/50\n",
      "Downloading decklist: 37/50\n",
      "Downloading decklist: 38/50\n",
      "Downloading decklist: 39/50\n",
      "Downloading decklist: 40/50\n",
      "Downloading decklist: 41/50\n",
      "Downloading decklist: 42/50\n",
      "Downloading decklist: 43/50\n",
      "Downloading decklist: 44/50\n",
      "Downloading decklist: 45/50\n",
      "Downloading decklist: 46/50\n",
      "Downloading decklist: 47/50\n",
      "Downloading decklist: 48/50\n",
      "Downloading decklist: 49/50\n",
      "Downloading decklist: 50/50\n",
      "\n",
      "Fetching of decklists completed. 50 decklists downloaded.\n"
     ]
    }
   ],
   "source": [
    "# url = \"https://www.mtggoldfish.com/archetype/legacy-izzet-delver/decks\"\n",
    "# url = \"https://www.mtggoldfish.com/archetype/legacy-sneak-and-show/decks\"\n",
    "url = \"https://www.mtggoldfish.com/archetype/legacy-grixis-tempo/decks\"\n",
    "page = requests.get(url)\n",
    "soup = bs4.BeautifulSoup(page.text, \"lxml\")\n",
    "table = soup.find(\"table\", class_=\"table table-striped\")\n",
    "\n",
    "links = []\n",
    "total_decklists_number = table.find_all(\"tr\")[1:]\n",
    "for row in total_decklists_number:\n",
    "    columns = row.find_all(\"td\")\n",
    "    cell = columns[1]\n",
    "    link_line = cell.find_all(\"a\")[0]\n",
    "    links.append(link_line[\"href\"])\n",
    "deck_nos = [link.strip(\"/deck/\") for link in links]\n",
    "\n",
    "for i, deck_no in enumerate(deck_nos):\n",
    "    url = \"https://www.mtggoldfish.com/deck/download/\" + deck_no\n",
    "    page = requests.get(url)\n",
    "    file_name = \"Decklists\\decklist_\" + str(i) + \".txt\"\n",
    "    with open(file_name, \"w\") as f:\n",
    "        f.write(page.text.replace(\"\\r\", \"\")[:-1])\n",
    "        print(f\"Downloading decklist: {i+1}/{len(total_decklists_number)}\")\n",
    "print(\"\\nFetching of decklists completed. {} decklists downloaded.\".format(len(total_decklists_number)))"
   ]
  }
 ],
 "metadata": {
  "kernelspec": {
   "display_name": "Python 3 (ipykernel)",
   "language": "python",
   "name": "python3"
  },
  "language_info": {
   "codemirror_mode": {
    "name": "ipython",
    "version": 3
   },
   "file_extension": ".py",
   "mimetype": "text/x-python",
   "name": "python",
   "nbconvert_exporter": "python",
   "pygments_lexer": "ipython3",
   "version": "3.10.9"
  },
  "toc": {
   "base_numbering": 1,
   "nav_menu": {},
   "number_sections": true,
   "sideBar": true,
   "skip_h1_title": false,
   "title_cell": "Table of Contents",
   "title_sidebar": "Contents",
   "toc_cell": false,
   "toc_position": {},
   "toc_section_display": true,
   "toc_window_display": false
  }
 },
 "nbformat": 4,
 "nbformat_minor": 5
}
